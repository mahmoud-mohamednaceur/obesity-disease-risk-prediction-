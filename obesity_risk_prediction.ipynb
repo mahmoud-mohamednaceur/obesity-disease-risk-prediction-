{
 "cells": [
  {
   "cell_type": "markdown",
   "source": [],
   "metadata": {
    "collapsed": false
   },
   "id": "866bdf1f3c543163"
  },
  {
   "cell_type": "code",
   "execution_count": 2,
   "id": "initial_id",
   "metadata": {
    "collapsed": true,
    "ExecuteTime": {
     "end_time": "2024-11-03T16:37:47.991622300Z",
     "start_time": "2024-11-03T16:37:47.791150100Z"
    }
   },
   "outputs": [
    {
     "name": "stdout",
     "output_type": "stream",
     "text": [
      "C:\\Users\\NQ10058846\\PycharmProjects\\Obesity disease risk prediction\n"
     ]
    }
   ],
   "source": [
    "cd \"C:\\Users\\NQ10058846\\PycharmProjects\\Obesity disease risk prediction\""
   ]
  },
  {
   "cell_type": "markdown",
   "source": [
    "# set the imports "
   ],
   "metadata": {
    "collapsed": false
   },
   "id": "877060db3f6be4c0"
  },
  {
   "cell_type": "code",
   "execution_count": 15,
   "outputs": [],
   "source": [
    "import pandas as pd\n",
    "from sklearn.model_selection import train_test_split, RandomizedSearchCV\n",
    "from sklearn.pipeline import Pipeline\n",
    "from sklearn.compose import ColumnTransformer\n",
    "from sklearn.preprocessing import StandardScaler, OneHotEncoder, LabelEncoder\n",
    "from lightgbm import LGBMClassifier\n",
    "from lib.utilities.helper_functions import HelperFunctions"
   ],
   "metadata": {
    "collapsed": false,
    "ExecuteTime": {
     "end_time": "2024-11-03T16:44:41.131667800Z",
     "start_time": "2024-11-03T16:44:32.394789900Z"
    }
   },
   "id": "4ec2f9e33bfa244f"
  },
  {
   "cell_type": "code",
   "execution_count": 11,
   "outputs": [],
   "source": [
    "train_data = pd.read_csv('datasets/train.csv')\n",
    "\n"
   ],
   "metadata": {
    "collapsed": false,
    "ExecuteTime": {
     "end_time": "2024-11-03T16:41:22.763884Z",
     "start_time": "2024-11-03T16:41:22.688799100Z"
    }
   },
   "id": "44b5d9e47d93155d"
  },
  {
   "cell_type": "code",
   "execution_count": 14,
   "outputs": [
    {
     "data": {
      "text/plain": "   id  Gender        Age    Height      Weight family_history_with_overweight  \\\n0   0    Male  24.443011  1.699998   81.669950                            yes   \n1   1  Female  18.000000  1.560000   57.000000                            yes   \n2   2  Female  18.000000  1.711460   50.165754                            yes   \n3   3  Female  20.952737  1.710730  131.274851                            yes   \n4   4    Male  31.641081  1.914186   93.798055                            yes   \n\n  FAVC      FCVC       NCP        CAEC SMOKE      CH2O SCC       FAF  \\\n0  yes  2.000000  2.983297   Sometimes    no  2.763573  no  0.000000   \n1  yes  2.000000  3.000000  Frequently    no  2.000000  no  1.000000   \n2  yes  1.880534  1.411685   Sometimes    no  1.910378  no  0.866045   \n3  yes  3.000000  3.000000   Sometimes    no  1.674061  no  1.467863   \n4  yes  2.679664  1.971472   Sometimes    no  1.979848  no  1.967973   \n\n        TUE       CALC                 MTRANS  NObeyesdad  \n0  0.976473  Sometimes  Public_Transportation           6  \n1  1.000000         no             Automobile           1  \n2  1.673584         no  Public_Transportation           0  \n3  0.780199  Sometimes  Public_Transportation           4  \n4  0.931721  Sometimes  Public_Transportation           6  ",
      "text/html": "<div>\n<style scoped>\n    .dataframe tbody tr th:only-of-type {\n        vertical-align: middle;\n    }\n\n    .dataframe tbody tr th {\n        vertical-align: top;\n    }\n\n    .dataframe thead th {\n        text-align: right;\n    }\n</style>\n<table border=\"1\" class=\"dataframe\">\n  <thead>\n    <tr style=\"text-align: right;\">\n      <th></th>\n      <th>id</th>\n      <th>Gender</th>\n      <th>Age</th>\n      <th>Height</th>\n      <th>Weight</th>\n      <th>family_history_with_overweight</th>\n      <th>FAVC</th>\n      <th>FCVC</th>\n      <th>NCP</th>\n      <th>CAEC</th>\n      <th>SMOKE</th>\n      <th>CH2O</th>\n      <th>SCC</th>\n      <th>FAF</th>\n      <th>TUE</th>\n      <th>CALC</th>\n      <th>MTRANS</th>\n      <th>NObeyesdad</th>\n    </tr>\n  </thead>\n  <tbody>\n    <tr>\n      <th>0</th>\n      <td>0</td>\n      <td>Male</td>\n      <td>24.443011</td>\n      <td>1.699998</td>\n      <td>81.669950</td>\n      <td>yes</td>\n      <td>yes</td>\n      <td>2.000000</td>\n      <td>2.983297</td>\n      <td>Sometimes</td>\n      <td>no</td>\n      <td>2.763573</td>\n      <td>no</td>\n      <td>0.000000</td>\n      <td>0.976473</td>\n      <td>Sometimes</td>\n      <td>Public_Transportation</td>\n      <td>6</td>\n    </tr>\n    <tr>\n      <th>1</th>\n      <td>1</td>\n      <td>Female</td>\n      <td>18.000000</td>\n      <td>1.560000</td>\n      <td>57.000000</td>\n      <td>yes</td>\n      <td>yes</td>\n      <td>2.000000</td>\n      <td>3.000000</td>\n      <td>Frequently</td>\n      <td>no</td>\n      <td>2.000000</td>\n      <td>no</td>\n      <td>1.000000</td>\n      <td>1.000000</td>\n      <td>no</td>\n      <td>Automobile</td>\n      <td>1</td>\n    </tr>\n    <tr>\n      <th>2</th>\n      <td>2</td>\n      <td>Female</td>\n      <td>18.000000</td>\n      <td>1.711460</td>\n      <td>50.165754</td>\n      <td>yes</td>\n      <td>yes</td>\n      <td>1.880534</td>\n      <td>1.411685</td>\n      <td>Sometimes</td>\n      <td>no</td>\n      <td>1.910378</td>\n      <td>no</td>\n      <td>0.866045</td>\n      <td>1.673584</td>\n      <td>no</td>\n      <td>Public_Transportation</td>\n      <td>0</td>\n    </tr>\n    <tr>\n      <th>3</th>\n      <td>3</td>\n      <td>Female</td>\n      <td>20.952737</td>\n      <td>1.710730</td>\n      <td>131.274851</td>\n      <td>yes</td>\n      <td>yes</td>\n      <td>3.000000</td>\n      <td>3.000000</td>\n      <td>Sometimes</td>\n      <td>no</td>\n      <td>1.674061</td>\n      <td>no</td>\n      <td>1.467863</td>\n      <td>0.780199</td>\n      <td>Sometimes</td>\n      <td>Public_Transportation</td>\n      <td>4</td>\n    </tr>\n    <tr>\n      <th>4</th>\n      <td>4</td>\n      <td>Male</td>\n      <td>31.641081</td>\n      <td>1.914186</td>\n      <td>93.798055</td>\n      <td>yes</td>\n      <td>yes</td>\n      <td>2.679664</td>\n      <td>1.971472</td>\n      <td>Sometimes</td>\n      <td>no</td>\n      <td>1.979848</td>\n      <td>no</td>\n      <td>1.967973</td>\n      <td>0.931721</td>\n      <td>Sometimes</td>\n      <td>Public_Transportation</td>\n      <td>6</td>\n    </tr>\n  </tbody>\n</table>\n</div>"
     },
     "execution_count": 14,
     "metadata": {},
     "output_type": "execute_result"
    }
   ],
   "source": [
    "train_data.head()"
   ],
   "metadata": {
    "collapsed": false,
    "ExecuteTime": {
     "end_time": "2024-11-03T16:42:50.407346400Z",
     "start_time": "2024-11-03T16:42:50.269956400Z"
    }
   },
   "id": "1a3546dfaa52e582"
  },
  {
   "cell_type": "markdown",
   "source": [
    "# perform explorative data analysis"
   ],
   "metadata": {
    "collapsed": false
   },
   "id": "fecd028987a77134"
  },
  {
   "cell_type": "code",
   "execution_count": 27,
   "outputs": [
    {
     "data": {
      "text/plain": "'\\n    HelperFunctions().generate_profile_report(train_data ,\"ydata_profiling_settings_folder/ydata_profiling_settings.yaml\" , \"exploratory_data_analysis_output_folder/data_explorative_analysis_report\")\\n'"
     },
     "execution_count": 27,
     "metadata": {},
     "output_type": "execute_result"
    }
   ],
   "source": [
    "\"\"\"\n",
    "    HelperFunctions().generate_profile_report(train_data ,\"ydata_profiling_settings_folder/ydata_profiling_settings.yaml\" , \"exploratory_data_analysis_output_folder/data_explorative_analysis_report\")\n",
    "\"\"\""
   ],
   "metadata": {
    "collapsed": false,
    "ExecuteTime": {
     "end_time": "2024-11-03T17:10:38.042069800Z",
     "start_time": "2024-11-03T17:10:38.016464600Z"
    }
   },
   "id": "76de42002275f167"
  },
  {
   "cell_type": "markdown",
   "source": [
    "# train and tune the predictive model "
   ],
   "metadata": {
    "collapsed": false
   },
   "id": "e6bdaa7edffd4c8e"
  },
  {
   "cell_type": "code",
   "execution_count": 12,
   "outputs": [],
   "source": [
    "# Encode target variable into numerical labels\n",
    "label_encoder = LabelEncoder()\n",
    "train_data['NObeyesdad'] = label_encoder.fit_transform(train_data['NObeyesdad'])\n"
   ],
   "metadata": {
    "collapsed": false,
    "ExecuteTime": {
     "end_time": "2024-11-03T16:41:36.594256200Z",
     "start_time": "2024-11-03T16:41:36.541804Z"
    }
   },
   "id": "811809a80b165206"
  },
  {
   "cell_type": "code",
   "execution_count": 45,
   "outputs": [],
   "source": [
    "# Split features and target variable\n",
    "\n",
    "X = train_data.drop(columns=['NObeyesdad'])\n",
    "y = train_data['NObeyesdad']"
   ],
   "metadata": {
    "collapsed": false,
    "ExecuteTime": {
     "end_time": "2024-11-03T08:14:47.223459200Z",
     "start_time": "2024-11-03T08:14:47.099543Z"
    }
   },
   "id": "a59e9f8ba73aeac1"
  },
  {
   "cell_type": "code",
   "execution_count": 46,
   "outputs": [],
   "source": [
    "# Define categorical and numerical features\n",
    "\n",
    "categorical_features = ['Gender', 'family_history_with_overweight', 'FAVC', 'CAEC', 'SMOKE', 'SCC', 'CALC', 'MTRANS']\n",
    "numerical_features = ['Age', 'Height', 'Weight', 'FCVC', 'NCP', 'CH2O', 'FAF', 'TUE']"
   ],
   "metadata": {
    "collapsed": false,
    "ExecuteTime": {
     "end_time": "2024-11-03T08:14:47.223459200Z",
     "start_time": "2024-11-03T08:14:47.111355600Z"
    }
   },
   "id": "b6235ef5a40839c9"
  },
  {
   "cell_type": "code",
   "execution_count": 47,
   "outputs": [],
   "source": [
    "# Split the data into training and validation sets\n",
    "\n",
    "X_train, X_test, y_train, y_test = train_test_split(X, y, test_size=0.2, random_state=42)"
   ],
   "metadata": {
    "collapsed": false,
    "ExecuteTime": {
     "end_time": "2024-11-03T08:14:47.224460700Z",
     "start_time": "2024-11-03T08:14:47.116371800Z"
    }
   },
   "id": "ce5e93fddc445656"
  },
  {
   "cell_type": "code",
   "execution_count": 48,
   "outputs": [],
   "source": [
    "# Define preprocessing steps\n",
    "numeric_transformer = Pipeline(steps=[\n",
    "    ('scaler', StandardScaler())\n",
    "])\n",
    "\n",
    "categorical_transformer = Pipeline(steps=[\n",
    "    ('onehot', OneHotEncoder(handle_unknown='ignore'))\n",
    "])\n",
    "\n",
    "preprocessor = ColumnTransformer(\n",
    "    transformers=[\n",
    "        ('num', numeric_transformer, numerical_features),\n",
    "        ('cat', categorical_transformer, categorical_features)\n",
    "    ])"
   ],
   "metadata": {
    "collapsed": false,
    "ExecuteTime": {
     "end_time": "2024-11-03T08:14:47.226461800Z",
     "start_time": "2024-11-03T08:14:47.139617900Z"
    }
   },
   "id": "6773141391828c41"
  },
  {
   "cell_type": "code",
   "execution_count": 49,
   "outputs": [],
   "source": [
    "# Define the LGBM model\n",
    "lgbm_model = LGBMClassifier()"
   ],
   "metadata": {
    "collapsed": false,
    "ExecuteTime": {
     "end_time": "2024-11-03T08:14:47.226461800Z",
     "start_time": "2024-11-03T08:14:47.145134900Z"
    }
   },
   "id": "d820eb06b96ebd85"
  },
  {
   "cell_type": "code",
   "execution_count": 50,
   "outputs": [],
   "source": [
    "# Define the pipeline\n",
    "pipeline = Pipeline(steps=[('preprocessor', preprocessor),\n",
    "                           ('classifier', lgbm_model)])"
   ],
   "metadata": {
    "collapsed": false,
    "ExecuteTime": {
     "end_time": "2024-11-03T08:14:47.226461800Z",
     "start_time": "2024-11-03T08:14:47.151861600Z"
    }
   },
   "id": "c24afd30ea3fba63"
  },
  {
   "cell_type": "code",
   "execution_count": 51,
   "outputs": [],
   "source": [
    "# Define hyperparameters for randomized search\n",
    "param_grid = {\n",
    "    'classifier__n_estimators': [100, 200, 300, 400, 500],\n",
    "    'classifier__max_depth': [3, 5, 7, 9, 11],\n",
    "    'classifier__learning_rate': [0.01, 0.05, 0.1, 0.2, 0.3],\n",
    "    'classifier__subsample': [0.5, 0.7, 0.9, 1.0],\n",
    "    'classifier__colsample_bytree': [0.5, 0.7, 0.9, 1.0],\n",
    "    'classifier__min_child_samples': [10, 20, 30, 40, 50],\n",
    "    'classifier__reg_alpha': [0.0, 0.1, 0.5, 1.0],\n",
    "    'classifier__reg_lambda': [0.0, 0.1, 0.5, 1.0],\n",
    "    'classifier__min_child_weight': [1e-3, 1e-2, 0.1, 1, 10]\n",
    "}"
   ],
   "metadata": {
    "collapsed": false,
    "ExecuteTime": {
     "end_time": "2024-11-03T08:14:47.226461800Z",
     "start_time": "2024-11-03T08:14:47.155393500Z"
    }
   },
   "id": "5ee1944b0f8c9e4"
  },
  {
   "cell_type": "code",
   "execution_count": null,
   "outputs": [
    {
     "name": "stdout",
     "output_type": "stream",
     "text": [
      "Fitting 3 folds for each of 50 candidates, totalling 150 fits\n"
     ]
    }
   ],
   "source": [
    "# Perform randomized search cross-validation\n",
    "\n",
    "random_search = RandomizedSearchCV(pipeline, param_distributions=param_grid, \n",
    "                                   n_iter=50, \n",
    "                                   cv=3, \n",
    "                                   verbose=2, \n",
    "                                   random_state=42, \n",
    "                                   n_jobs=-1)\n",
    "random_search.fit(X_train, y_train)"
   ],
   "metadata": {
    "collapsed": false,
    "is_executing": true,
    "ExecuteTime": {
     "start_time": "2024-11-03T08:14:47.164523400Z"
    }
   },
   "id": "819287f38a3b69bd"
  },
  {
   "cell_type": "code",
   "execution_count": null,
   "outputs": [],
   "source": [
    "# Get the best parameters\n",
    "\n",
    "best_params = random_search.best_params_\n",
    "best_model = random_search.best_estimator_"
   ],
   "metadata": {
    "collapsed": false,
    "is_executing": true
   },
   "id": "f3d380bbe42ce47b"
  },
  {
   "cell_type": "code",
   "execution_count": null,
   "outputs": [],
   "source": [
    "# Print the best parameters\n",
    "print(\"Best Parameters:\", best_params)"
   ],
   "metadata": {
    "collapsed": false,
    "is_executing": true
   },
   "id": "27d315869a8a4216"
  },
  {
   "cell_type": "code",
   "execution_count": 18,
   "outputs": [
    {
     "ename": "NameError",
     "evalue": "name 'X_test' is not defined",
     "output_type": "error",
     "traceback": [
      "\u001B[1;31m---------------------------------------------------------------------------\u001B[0m",
      "\u001B[1;31mNameError\u001B[0m                                 Traceback (most recent call last)",
      "Cell \u001B[1;32mIn[18], line 2\u001B[0m\n\u001B[0;32m      1\u001B[0m \u001B[38;5;66;03m# Evaluate the best model on the validation set\u001B[39;00m\n\u001B[1;32m----> 2\u001B[0m accuracy \u001B[38;5;241m=\u001B[39m best_model\u001B[38;5;241m.\u001B[39mscore(\u001B[43mX_test\u001B[49m, y_test)\n\u001B[0;32m      3\u001B[0m \u001B[38;5;28mprint\u001B[39m(\u001B[38;5;124m\"\u001B[39m\u001B[38;5;124mValidation Accuracy:\u001B[39m\u001B[38;5;124m\"\u001B[39m, accuracy)\n",
      "\u001B[1;31mNameError\u001B[0m: name 'X_test' is not defined"
     ]
    }
   ],
   "source": [
    "# Evaluate the best model on the validation set\n",
    "accuracy = best_model.score(X_test, y_test)\n",
    "print(\"Validation Accuracy:\", accuracy)"
   ],
   "metadata": {
    "collapsed": false,
    "ExecuteTime": {
     "end_time": "2024-11-03T16:48:20.683287200Z",
     "start_time": "2024-11-03T16:48:20.605903200Z"
    }
   },
   "id": "e5069b19339078cc"
  },
  {
   "cell_type": "code",
   "execution_count": null,
   "outputs": [],
   "source": [
    "# best model on entire dataset\n",
    "best_model.fit(X,y)"
   ],
   "metadata": {
    "collapsed": false,
    "is_executing": true
   },
   "id": "5c51ddb4e6f70cb0"
  },
  {
   "cell_type": "code",
   "execution_count": 19,
   "outputs": [],
   "source": [
    "# Prepare test data\n",
    "\n",
    "test_data = pd.read_csv('datasets/test.csv')"
   ],
   "metadata": {
    "collapsed": false,
    "ExecuteTime": {
     "end_time": "2024-11-03T16:48:30.630196Z",
     "start_time": "2024-11-03T16:48:30.487137600Z"
    }
   },
   "id": "b380ed536f446971"
  },
  {
   "cell_type": "code",
   "execution_count": 20,
   "outputs": [],
   "source": [
    "# Make predictions on test data\n",
    "test_predictions = best_model.predict(test_data)"
   ],
   "metadata": {
    "collapsed": false,
    "ExecuteTime": {
     "end_time": "2024-11-03T16:48:33.885306Z",
     "start_time": "2024-11-03T16:48:32.139782700Z"
    }
   },
   "id": "78ac248cde47074"
  },
  {
   "cell_type": "code",
   "execution_count": 21,
   "outputs": [],
   "source": [
    "# Create submission dataframe\n",
    "submission_df = pd.DataFrame({'id': test_data['id'], \n",
    "                              'NObeyesdad': label_encoder.inverse_transform(test_predictions)})"
   ],
   "metadata": {
    "collapsed": false,
    "ExecuteTime": {
     "end_time": "2024-11-03T16:48:37.358637800Z",
     "start_time": "2024-11-03T16:48:37.324971100Z"
    }
   },
   "id": "33683330159feaa3"
  },
  {
   "cell_type": "code",
   "execution_count": null,
   "outputs": [],
   "source": [
    "# Save submission dataframe to CSV\n",
    "submission_df.to_csv('submission.csv', index=False)"
   ],
   "metadata": {
    "collapsed": false,
    "is_executing": true
   },
   "id": "99f9b52852453dd2"
  },
  {
   "cell_type": "markdown",
   "source": [
    "# save the trained model"
   ],
   "metadata": {
    "collapsed": false
   },
   "id": "86241726fac2c4ec"
  },
  {
   "cell_type": "code",
   "execution_count": 26,
   "outputs": [],
   "source": [
    "# Save the best model with pickle\n",
    "import pickle\n",
    "with open('trained_models/trained_models.pkl', 'wb') as file:\n",
    "    pickle.dump(best_model, file)\n",
    "\n",
    "with open('trained_models/label_encoders.pkl', 'wb') as file:\n",
    "    pickle.dump(label_encoder, file)\n",
    "    "
   ],
   "metadata": {
    "collapsed": false,
    "ExecuteTime": {
     "end_time": "2024-11-03T16:59:14.033605600Z",
     "start_time": "2024-11-03T16:59:13.780415Z"
    }
   },
   "id": "d27caee09eb1c1f1"
  },
  {
   "cell_type": "code",
   "execution_count": null,
   "outputs": [],
   "source": [],
   "metadata": {
    "collapsed": false,
    "is_executing": true
   },
   "id": "41b7ec36280aa10a"
  },
  {
   "cell_type": "code",
   "execution_count": null,
   "outputs": [],
   "source": [],
   "metadata": {
    "collapsed": false,
    "is_executing": true
   },
   "id": "a3e8a220760e6989"
  },
  {
   "cell_type": "code",
   "execution_count": null,
   "outputs": [],
   "source": [],
   "metadata": {
    "collapsed": false
   },
   "id": "6b6ac8ba7acafecc"
  }
 ],
 "metadata": {
  "kernelspec": {
   "display_name": "Python 3",
   "language": "python",
   "name": "python3"
  },
  "language_info": {
   "codemirror_mode": {
    "name": "ipython",
    "version": 2
   },
   "file_extension": ".py",
   "mimetype": "text/x-python",
   "name": "python",
   "nbconvert_exporter": "python",
   "pygments_lexer": "ipython2",
   "version": "2.7.6"
  }
 },
 "nbformat": 4,
 "nbformat_minor": 5
}
